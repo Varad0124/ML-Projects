{
  "nbformat": 4,
  "nbformat_minor": 0,
  "metadata": {
    "colab": {
      "provenance": [],
      "collapsed_sections": []
    },
    "kernelspec": {
      "name": "python3",
      "display_name": "Python 3"
    },
    "language_info": {
      "name": "python"
    }
  },
  "cells": [
    {
      "cell_type": "markdown",
      "source": [
        "Heading"
      ],
      "metadata": {
        "id": "yKaVt4wb8QO6"
      }
    },
    {
      "cell_type": "code",
      "source": [
        "# ``` To see all the available PAckages and their Versions ```\n",
        "# pip list"
      ],
      "metadata": {
        "id": "TtzzH0fO8Win"
      },
      "execution_count": 1,
      "outputs": []
    },
    {
      "cell_type": "code",
      "source": [
        "import numpy as np\n",
        "import pandas as pd\n",
        "import matplotlib.pyplot as plt\n",
        "import seaborn as sns "
      ],
      "metadata": {
        "id": "RFLB1GES831Q"
      },
      "execution_count": 2,
      "outputs": []
    },
    {
      "cell_type": "markdown",
      "source": [
        "## Import The File\n",
        "Most of the file formats are .csv we use `pd.read_csv`"
      ],
      "metadata": {
        "id": "PD2vyid-8o2K"
      }
    },
    {
      "cell_type": "code",
      "source": [
        "# data = pd.read_csv(\"filename.csv\")"
      ],
      "metadata": {
        "id": "qWT6nCTS8wFs"
      },
      "execution_count": 4,
      "outputs": []
    },
    {
      "cell_type": "markdown",
      "source": [
        "## `data.head()`To see the Top 5 rows and columns\n",
        "## To see the Bottom 5 rows and columns"
      ],
      "metadata": {
        "id": "1WXYw-9l-Ng7"
      }
    },
    {
      "cell_type": "code",
      "source": [
        "# data.head()   \n",
        "# data.head()  "
      ],
      "metadata": {
        "id": "wVAL5zWq9eAS"
      },
      "execution_count": 5,
      "outputs": []
    },
    {
      "cell_type": "markdown",
      "source": [
        "## To see the size of the data"
      ],
      "metadata": {
        "id": "KgoBRSfL-jHY"
      }
    },
    {
      "cell_type": "code",
      "source": [
        "#data.shape() \n",
        "# data.dtypes # to see the datatypes of the columns"
      ],
      "metadata": {
        "id": "hUSvn4Z0-Hgn"
      },
      "execution_count": 6,
      "outputs": []
    },
    {
      "cell_type": "markdown",
      "source": [
        "## Confusion matrix Heatmap"
      ],
      "metadata": {
        "id": "CqbFWpOs_dVH"
      }
    },
    {
      "cell_type": "code",
      "source": [
        "from sklearn.metrics import confusion_matrix\n",
        "import seaborn as sns\n",
        "\n",
        "\n",
        "# give this values as you assigned\n",
        "\n",
        "# cf_matrix = confusion_matrix(y, y_pred)\n",
        "# sns.heatmap(cf_matrix, annot=True)\n",
        "# labels = [‘True Neg’,’False Pos’,’False Neg’,’True Pos’]\n",
        "# categories = [‘Zero’, ‘One’]\n",
        "# make_confusion_matrix(cf_matrix, \n",
        "#                       group_names=labels,\n",
        "#                       categories=categories, \n",
        "#                       cmap=’binary’)\n"
      ],
      "metadata": {
        "id": "shVLHF0D-nsz"
      },
      "execution_count": 7,
      "outputs": []
    },
    {
      "cell_type": "markdown",
      "source": [
        "# Classification report heatmap"
      ],
      "metadata": {
        "id": "WS4qJMrHAXNL"
      }
    },
    {
      "cell_type": "code",
      "source": [
        "# visualizer = classification_report(\n",
        "#     model, X_train, y_train, X_test, y_test, classes=classes, support=True\n",
        "# )"
      ],
      "metadata": {
        "id": "DvZJc9fwAGoA"
      },
      "execution_count": 8,
      "outputs": []
    },
    {
      "cell_type": "code",
      "source": [
        "# here instantiate model accoring tothe problem you are solving\n",
        "# i.e   model = GaussianNB()"
      ],
      "metadata": {
        "id": "RMug0tpGBptq"
      },
      "execution_count": 9,
      "outputs": []
    },
    {
      "cell_type": "markdown",
      "source": [
        "# Barplot from dataframe of performance"
      ],
      "metadata": {
        "id": "1JrTXgFtB5n3"
      }
    },
    {
      "cell_type": "code",
      "source": [
        "df = pd.DataFrame({'models':['SVM', 'Logistic Regression', 'XgBoost'], 'F1_Score':[0.65, 0.89, 0.75]})\n",
        "ax = df.plot.bar(x='models', y='F1_Score', rot=0)"
      ],
      "metadata": {
        "id": "JG80_n6sCHM8",
        "colab": {
          "base_uri": "https://localhost:8080/",
          "height": 279
        },
        "outputId": "ab68b85d-808c-496c-bd03-38cfeba2a896"
      },
      "execution_count": 19,
      "outputs": [
        {
          "output_type": "display_data",
          "data": {
            "text/plain": [
              "<Figure size 432x288 with 1 Axes>"
            ],
            "image/png": "[encoded data removed]"
          },
          "metadata": {
            "needs_background": "light"
          }
        }
      ]
    },
    {
      "cell_type": "markdown",
      "source": [
        "# Further Refernces\n",
        "[Scikit Learn](https://scikit-learn.org/stable/)\n",
        "[Matplotlib](https://matplotlib.org/)\n",
        "[Pandas](https://pandas.pydata.org/docs/index.html)"
      ],
      "metadata": {
        "id": "IGelQss5txRK"
      }
    },
    {
      "cell_type": "code",
      "source": [],
      "metadata": {
        "id": "3ISOElb3uUCI"
      },
      "execution_count": null,
      "outputs": []
    }
  ]
}